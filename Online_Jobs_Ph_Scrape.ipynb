{
 "cells": [
  {
   "cell_type": "code",
   "execution_count": 3,
   "id": "267b10b3",
   "metadata": {
    "scrolled": true
   },
   "outputs": [],
   "source": [
    "from selenium import webdriver\n",
    "from selenium.webdriver.common.keys import Keys\n",
    "from selenium.webdriver.common.by import By\n",
    "from selenium.webdriver.support.ui import WebDriverWait\n",
    "from selenium.webdriver.support import expected_conditions as EC\n",
    "import time\n",
    "import pandas as pd"
   ]
  },
  {
   "cell_type": "code",
   "execution_count": 4,
   "id": "b8319a1f",
   "metadata": {
    "scrolled": true
   },
   "outputs": [
    {
     "name": "stderr",
     "output_type": "stream",
     "text": [
      "C:\\Users\\ACER\\AppData\\Local\\Temp\\ipykernel_7900\\4070718223.py:2: DeprecationWarning: executable_path has been deprecated, please pass in a Service object\n",
      "  driver = webdriver.Edge(executable_path=PATH_TO_DRIVER)\n"
     ]
    }
   ],
   "source": [
    "PATH_TO_DRIVER = 'C:\\Program Files\\msedgedriver.exe'\n",
    "driver = webdriver.Edge(executable_path=PATH_TO_DRIVER)\n",
    "driver.get('https://www.upwork.com/nx/jobs/search/?sort=recency&exact_terms=data%20analytics')\n",
    "driver.maximize_window()"
   ]
  },
  {
   "cell_type": "code",
   "execution_count": 12,
   "id": "457da636",
   "metadata": {},
   "outputs": [],
   "source": [
    "test = driver.find_elements(By.XPATH, '//*[@id=\"up-line-clamp-v2-5\"]/span')\n"
   ]
  },
  {
   "cell_type": "code",
   "execution_count": 17,
   "id": "01aee633",
   "metadata": {},
   "outputs": [],
   "source": [
    "test_2 = driver.find_elements(By.CLASS_NAME, 'up-card-section.up-card-list-section.up-card-hover')"
   ]
  },
  {
   "cell_type": "code",
   "execution_count": 19,
   "id": "88d2636b",
   "metadata": {},
   "outputs": [],
   "source": [
    "test_2_list = []\n",
    "for i in test_2:\n",
    "    test_2_list.append(i.text)\n",
    "    "
   ]
  },
  {
   "cell_type": "code",
   "execution_count": 20,
   "id": "c3e17a09",
   "metadata": {},
   "outputs": [
    {
     "data": {
      "text/plain": [
       "['Political analyst and expert needed\\nHourly: $18.00-$45.00 - Intermediate - Est. Time: 3 to 6 months, Less than 30 hrs/week - Posted 2 hours ago\\nLooking for an experienced political analyst who can compile and provide recommendations of the results found on the existing political status . If interested send your proposal\\nSkip skills\\nMicrosoft Excel\\nResearcher\\nSocial Media Marketing\\nData Analysis\\nGoogle Analytics\\nSocial Media Content Creation\\nNext skills',\n",
       " 'Two hours zoom meeting consult- Statistics analysis specialist (SPSS)\\nFixed-price - Expert - Est. Budget: $50 - Posted 5 hours ago\\nI am looking for a statistics specialist who can audit and comment, in a zoom meeting, (about two hours) on the statistics analysis (I used the IBM SPSS 27 system) that I used for my research. Specifically, he/she needs to have the knowledge and to be able to interpretative and explain the following measures: Bivariate correlations (especially Spearman correlation) Paired-sample t-tests Repeated measures ANOVA  Post-hoc pairwise comparison using the Bonferroni correction Simple mediation model (Hayes, 2018) Serial Multipy mediator model (Hayes, 2018) Thank you very much!\\nmore\\nReport\\nIBM SPSS\\nStatistical Analysis\\nData Analysis',\n",
       " \"Set Up Mixpanel for Analytics\\nHourly - Intermediate - Est. Time: Less than 1 month, Less than 30 hrs/week - Posted 7 hours ago\\nI'm a US Fashion / Ecommerce startup CEO looking for a digital marketing expert help us integrate Mixpanel to help us track user behavior / analytics on our new Shopify store. The ideal candidate would have prior experience with Mixpanel and can give us a tutorial of how to use the product after implementation.\\nmore\\nGoogle Analytics\\nGoogle Analytics API\\nAnalytics\\nMixpanel\",\n",
       " 'exploratory data analysis on time series data\\nHourly: $20.00-$30.00 - Intermediate - Est. Time: Less than 1 month, Hours to be determined - Posted 7 hours ago\\nI have time series data of sensor values, Exploratory data analysis in terms of statistical distrbution of data, normalisation, trend and seasonality analysis of data and variance and co-relation analysis of data need to be carried out along with graphs /bar charts/ scatter plots etc for visualisation. Sample files is attached here with\\nmore\\nSkip skills\\nData Analysis\\nPython\\nStatistics\\nMachine Learning\\nData Visualization\\nNext skills',\n",
       " 'Straightforward statistical analysis, results needed ASAP\\nHourly: $10.00-$45.00 - Intermediate - Est. Time: Less than 1 month, Less than 30 hrs/week - Posted 8 hours ago\\nBasic straightforward statistical analysis of a single Excel sheet of data figures.\\nStatistics',\n",
       " 'Basic tests for significance with rapid turnaround\\nHourly: $10.00-$50.00 - Intermediate - Est. Time: Less than 1 month, Less than 30 hrs/week - Posted 8 hours ago\\nBasic straightforward statistical analysis of a single Excel sheet of data figures.\\nStatistics',\n",
       " 'Excel data analysis\\nFixed-price - Entry level - Est. Budget: $10 - Posted 9 hours ago\\nHi Are you good with formulas in excel? Do you have 10 mins now? There is only a small amount of data to work with. Requirement: Find the maximum percentage drop in 2022 compared to 2021 for any consecutive 14 day period, from 1 January to 30 April Details: Period 1st Jan - 30th April 2021 vs 1st Jan - 30th Apr 2022 The two weeks can start on ANY day from 1st January but must be the same 14 days in each year If there is no data on a particular day it is to be treated as $0 Example: $1000 (2021) vs $500 (2022) = 50% drop Thanks for considering. Cheers, Julie\\nmore\\nMicrosoft Excel',\n",
       " 'Data Analyst. Excel Expert\\nHourly: $9.00-$11.00 - Expert - Est. Time: More than 6 months, 30+ hrs/week - Posted 9 hours ago\\nWork directly with the COO and other Managers to collect and report on data in a visually please way that helps managers make decisions. Attend and document notes and set tasks for those in the meeting for follow up. You must be extremely organized and have the ability to keep google drive folders organized. You must have a high level of english\\nmore\\nSkip skills\\nGrowth Analytics\\nProduct Analytics\\nOperations Analytics\\nDashboard\\nQuery Development\\nReport\\nMicrosoft Excel\\nSpreadsheet Software\\nData Analysis\\nData Visualization\\nNext skills',\n",
       " 'Data scientist for e-commerce\\nFixed-price - Intermediate - Est. Budget: $10 - Posted 10 hours ago\\nI am looking for someone to support in analyzing my e-commerce shopify data. This will be on-going. What I would like to achieve is: - When traffic slows to my website, what source is this a result from? - When conversions dip, why is this happening? - What page do I loose customers on when shopping? - How can we fix these issues or optimize current processes? If you are able to complete this and want on-going work, please provide me an understanding of what data can you provide me and what you will need to do this e.g. Shopify access. I would also like to understand what else I can be given to get a basic understanding of why my sales decrease and increase regularly Thanks\\nmore\\nData Science\\nData Analysis',\n",
       " 'Ensighten Tag Manager Expert\\nHourly: $35.00-$65.00 - Expert - Est. Time: Less than 1 month, Less than 30 hrs/week - Posted 11 hours ago\\nWe are looking for some help understanding Ensighten Tag Manager and making sure everything is tagged correctly and working. This will be an hourly project over the next few weeks, we have an interview and you must be able to show a previous Ensighten tag manager project.\\nmore\\nTag Manager Setup\\nAdobe Analytics']"
      ]
     },
     "execution_count": 20,
     "metadata": {},
     "output_type": "execute_result"
    }
   ],
   "source": [
    "test_2_list"
   ]
  },
  {
   "cell_type": "code",
   "execution_count": null,
   "id": "fff32e11",
   "metadata": {},
   "outputs": [],
   "source": []
  }
 ],
 "metadata": {
  "kernelspec": {
   "display_name": "Python 3 (ipykernel)",
   "language": "python",
   "name": "python3"
  },
  "language_info": {
   "codemirror_mode": {
    "name": "ipython",
    "version": 3
   },
   "file_extension": ".py",
   "mimetype": "text/x-python",
   "name": "python",
   "nbconvert_exporter": "python",
   "pygments_lexer": "ipython3",
   "version": "3.9.12"
  }
 },
 "nbformat": 4,
 "nbformat_minor": 5
}
